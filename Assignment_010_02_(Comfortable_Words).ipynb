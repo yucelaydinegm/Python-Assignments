{
  "nbformat": 4,
  "nbformat_minor": 0,
  "metadata": {
    "colab": {
      "name": "Assignment - 010/02 (Comfortable Words).ipynb",
      "provenance": [],
      "authorship_tag": "ABX9TyMr1dR0hJNpNW+2eJp/cONF",
      "include_colab_link": true
    },
    "kernelspec": {
      "name": "python3",
      "display_name": "Python 3"
    },
    "language_info": {
      "name": "python"
    }
  },
  "cells": [
    {
      "cell_type": "markdown",
      "metadata": {
        "id": "view-in-github",
        "colab_type": "text"
      },
      "source": [
        "<a href=\"https://colab.research.google.com/github/yucelaydinegm/Python-Assignments/blob/main/Assignment_010_02_(Comfortable_Words).ipynb\" target=\"_parent\"><img src=\"https://colab.research.google.com/assets/colab-badge.svg\" alt=\"Open In Colab\"/></a>"
      ]
    },
    {
      "cell_type": "code",
      "execution_count": 1,
      "metadata": {
        "id": "On9kic_kksl8"
      },
      "outputs": [],
      "source": [
        "def comfortable_word(word):\n",
        "  left_hand = (\"q,w,e,r,t,a,s,d,f,g,z,x,c,v,b\")\n",
        "  right_hand = (\"y,u,ı,o,p,ğ,ü,h,j,k,l,ş,i,n,m,ö,ç\")\n",
        "  word = word.lower()\n",
        "\n",
        "  l = 0\n",
        "  r = 0\n",
        "\n",
        "  for i in word:\n",
        "    if i in left_hand:\n",
        "      l += 1\n",
        "    if i in right_hand:\n",
        "      r += 1\n",
        "\n",
        "  if l !=0 and r != 0:\n",
        "    print(\"True\")\n",
        "  else:\n",
        "    print(\"False\")"
      ]
    },
    {
      "cell_type": "code",
      "source": [
        "comfortable_word(\"Clarusway\")"
      ],
      "metadata": {
        "colab": {
          "base_uri": "https://localhost:8080/"
        },
        "id": "eY3e6Sbikxmv",
        "outputId": "45f56ee7-6655-4afe-e139-a2b089ed927d"
      },
      "execution_count": 2,
      "outputs": [
        {
          "output_type": "stream",
          "name": "stdout",
          "text": [
            "True\n"
          ]
        }
      ]
    },
    {
      "cell_type": "code",
      "source": [
        "comfortable_word(\"tester\")"
      ],
      "metadata": {
        "colab": {
          "base_uri": "https://localhost:8080/"
        },
        "id": "0Os9FZUXk0WO",
        "outputId": "c16bde37-f7b5-4f0f-c5f1-22685ee7cfe8"
      },
      "execution_count": 3,
      "outputs": [
        {
          "output_type": "stream",
          "name": "stdout",
          "text": [
            "False\n"
          ]
        }
      ]
    },
    {
      "cell_type": "code",
      "source": [
        "comfortable_word(\"polly\")"
      ],
      "metadata": {
        "colab": {
          "base_uri": "https://localhost:8080/"
        },
        "id": "TsNm-2_Kk2sH",
        "outputId": "6fa3fe84-1dfb-41e7-b692-3b55ff143a35"
      },
      "execution_count": 4,
      "outputs": [
        {
          "output_type": "stream",
          "name": "stdout",
          "text": [
            "False\n"
          ]
        }
      ]
    }
  ]
}