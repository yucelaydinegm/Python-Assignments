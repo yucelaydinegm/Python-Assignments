{
  "nbformat": 4,
  "nbformat_minor": 0,
  "metadata": {
    "colab": {
      "name": "Assignment - 10/03 (Armstrong Numbers).ipynb",
      "provenance": [],
      "authorship_tag": "ABX9TyP1cVrj5Ob4rQxOzuSB0Vu6",
      "include_colab_link": true
    },
    "kernelspec": {
      "name": "python3",
      "display_name": "Python 3"
    },
    "language_info": {
      "name": "python"
    }
  },
  "cells": [
    {
      "cell_type": "markdown",
      "metadata": {
        "id": "view-in-github",
        "colab_type": "text"
      },
      "source": [
        "<a href=\"https://colab.research.google.com/github/yucelaydinegm/Python-Assignments/blob/main/Assignment_10_03_(Armstrong_Numbers).ipynb\" target=\"_parent\"><img src=\"https://colab.research.google.com/assets/colab-badge.svg\" alt=\"Open In Colab\"/></a>"
      ]
    },
    {
      "cell_type": "code",
      "execution_count": 8,
      "metadata": {
        "colab": {
          "base_uri": "https://localhost:8080/"
        },
        "id": "OJB6bbPyhYLE",
        "outputId": "8f652940-21b0-4a48-c866-f8e54d429c7e"
      },
      "outputs": [
        {
          "output_type": "stream",
          "name": "stdout",
          "text": [
            "Write a pozitive zet number to check if it is an Armstrong number? : i\n",
            "Invalid entry!! Don't use non-numeric, float, or negative values!\n",
            "Please write a valid number : 0\n",
            "Invalid entry!! Don't use non-numeric, float, or negative values!\n",
            "Please write a valid number : *\n",
            "Invalid entry!! Don't use non-numeric, float, or negative values!\n",
            "Please write a valid number : 96\n",
            "96 is not an Armstrong number.\n"
          ]
        }
      ],
      "source": [
        "num = input(\"Write a pozitive zet number \\\n",
        "to check if it is an Armstrong number? : \")\n",
        "while not num.isdigit() or int(num) == 0:\n",
        "  print(\"Invalid entry!! Don't use non-numeric, float, or negative values!\")\n",
        "  num = input(\"Please write a valid number : \")\n",
        "len_num = len(num)\n",
        "arm_num = 0\n",
        "for i in num:\n",
        "  arm_num += (int(i) ** len_num)\n",
        "if int(num) == arm_num:\n",
        "  print(num, \"is an Armstrong number.\")\n",
        "else:\n",
        "  print(num, \"is not an Armstrong number.\")"
      ]
    }
  ]
}