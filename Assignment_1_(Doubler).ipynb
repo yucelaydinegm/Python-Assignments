{
  "nbformat": 4,
  "nbformat_minor": 0,
  "metadata": {
    "colab": {
      "name": "Assignment - 1 (Doubler).ipynb",
      "provenance": [],
      "authorship_tag": "ABX9TyNU4mvldQuO4yCc3sznKyHq",
      "include_colab_link": true
    },
    "kernelspec": {
      "name": "python3",
      "display_name": "Python 3"
    },
    "language_info": {
      "name": "python"
    }
  },
  "cells": [
    {
      "cell_type": "markdown",
      "metadata": {
        "id": "view-in-github",
        "colab_type": "text"
      },
      "source": [
        "<a href=\"https://colab.research.google.com/github/yucelaydinegm/Python-Assignments/blob/main/Assignment_1_(Doubler).ipynb\" target=\"_parent\"><img src=\"https://colab.research.google.com/assets/colab-badge.svg\" alt=\"Open In Colab\"/></a>"
      ]
    },
    {
      "cell_type": "code",
      "metadata": {
        "colab": {
          "base_uri": "https://localhost:8080/"
        },
        "id": "4IHLYlBc5clL",
        "outputId": "755bffb4-e049-4b74-9b10-c29b758a96d4"
      },
      "source": [
        "def sum_double(x, y):\n",
        "  if x == y:\n",
        "    return (x + y) * 2\n",
        "  else:\n",
        "    return x + y\n",
        "\n",
        "sum_double(25, 25)\n"
      ],
      "execution_count": 4,
      "outputs": [
        {
          "output_type": "execute_result",
          "data": {
            "text/plain": [
              "100"
            ]
          },
          "metadata": {},
          "execution_count": 4
        }
      ]
    }
  ]
}