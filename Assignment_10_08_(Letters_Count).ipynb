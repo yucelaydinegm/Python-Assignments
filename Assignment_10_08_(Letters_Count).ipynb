{
  "nbformat": 4,
  "nbformat_minor": 0,
  "metadata": {
    "colab": {
      "name": "Assignment - 10/08 (Letters Count).ipynb",
      "provenance": [],
      "authorship_tag": "ABX9TyN/BNuLlQ/47lZ5CEHLJB9u",
      "include_colab_link": true
    },
    "kernelspec": {
      "name": "python3",
      "display_name": "Python 3"
    },
    "language_info": {
      "name": "python"
    }
  },
  "cells": [
    {
      "cell_type": "markdown",
      "metadata": {
        "id": "view-in-github",
        "colab_type": "text"
      },
      "source": [
        "<a href=\"https://colab.research.google.com/github/yucelaydinegm/Python-Assignments/blob/main/Assignment_10_08_(Letters_Count).ipynb\" target=\"_parent\"><img src=\"https://colab.research.google.com/assets/colab-badge.svg\" alt=\"Open In Colab\"/></a>"
      ]
    },
    {
      "cell_type": "code",
      "execution_count": null,
      "metadata": {
        "colab": {
          "base_uri": "https://localhost:8080/"
        },
        "id": "EYxWoSnYh7JP",
        "outputId": "dbae2966-8692-4ad3-88c3-faea92df1da3"
      },
      "outputs": [
        {
          "output_type": "stream",
          "name": "stdout",
          "text": [
            "Write a sentence to chec the number of all chars : hello, Guys. Don't give up!!..\n",
            "{'h': 1, 'e': 2, 'l': 2, 'o': 2, ',': 1, ' ': 4, 'G': 1, 'u': 2, 'y': 1, 's': 1, '.': 3, 'D': 1, 'n': 1, \"'\": 1, 't': 1, 'g': 1, 'i': 1, 'v': 1, 'p': 1, '!': 2}\n"
          ]
        }
      ],
      "source": [
        "sentence = input(\"Write a sentence to chec the number of all chars : \")\n",
        "sentence_dict = {}\n",
        "for i in sentence:\n",
        "  numb = sentence.count(i)\n",
        "  sentence_dict[i] = numb\n",
        "print(sentence_dict)"
      ]
    }
  ]
}