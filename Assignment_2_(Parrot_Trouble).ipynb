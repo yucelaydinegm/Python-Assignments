{
  "nbformat": 4,
  "nbformat_minor": 0,
  "metadata": {
    "colab": {
      "name": "Assignment - 2 (Parrot Trouble).ipynb",
      "provenance": [],
      "authorship_tag": "ABX9TyNEgFs3YnogtaiuPmM6gGcw",
      "include_colab_link": true
    },
    "kernelspec": {
      "name": "python3",
      "display_name": "Python 3"
    },
    "language_info": {
      "name": "python"
    }
  },
  "cells": [
    {
      "cell_type": "markdown",
      "metadata": {
        "id": "view-in-github",
        "colab_type": "text"
      },
      "source": [
        "<a href=\"https://colab.research.google.com/github/yucelaydinegm/Python-Assignments/blob/main/Assignment_2_(Parrot_Trouble).ipynb\" target=\"_parent\"><img src=\"https://colab.research.google.com/assets/colab-badge.svg\" alt=\"Open In Colab\"/></a>"
      ]
    },
    {
      "cell_type": "code",
      "metadata": {
        "colab": {
          "base_uri": "https://localhost:8080/"
        },
        "id": "01kPThihuCHw",
        "outputId": "8d4ad66e-768b-449a-ccc4-6d2d3377acb4"
      },
      "source": [
        "def parrot_trouble(talking, hour):\n",
        "  if (talking == True) and (hour < 6 or hour > 21):\n",
        "    return True\n",
        "  else:\n",
        "    return False\n",
        "\n",
        "parrot_trouble(True, 22)"
      ],
      "execution_count": 17,
      "outputs": [
        {
          "output_type": "execute_result",
          "data": {
            "text/plain": [
              "True"
            ]
          },
          "metadata": {},
          "execution_count": 17
        }
      ]
    }
  ]
}