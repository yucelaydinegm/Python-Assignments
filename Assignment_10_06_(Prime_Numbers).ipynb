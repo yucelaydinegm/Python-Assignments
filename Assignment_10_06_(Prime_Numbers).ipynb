{
  "nbformat": 4,
  "nbformat_minor": 0,
  "metadata": {
    "colab": {
      "name": "Assignment - 10/06 (Prime Numbers).ipynb",
      "provenance": [],
      "authorship_tag": "ABX9TyO3nIz0irYb0qmdYUcOy50I",
      "include_colab_link": true
    },
    "kernelspec": {
      "name": "python3",
      "display_name": "Python 3"
    },
    "language_info": {
      "name": "python"
    }
  },
  "cells": [
    {
      "cell_type": "markdown",
      "metadata": {
        "id": "view-in-github",
        "colab_type": "text"
      },
      "source": [
        "<a href=\"https://colab.research.google.com/github/yucelaydinegm/Python-Assignments/blob/main/Assignment_10_06_(Prime_Numbers).ipynb\" target=\"_parent\"><img src=\"https://colab.research.google.com/assets/colab-badge.svg\" alt=\"Open In Colab\"/></a>"
      ]
    },
    {
      "cell_type": "code",
      "metadata": {
        "colab": {
          "base_uri": "https://localhost:8080/"
        },
        "id": "NsUbG2TGSnSB",
        "outputId": "5a46452e-9af0-48ff-d9fc-166863c3b879"
      },
      "source": [
        "limit = int(input(\"Kaça kadar asal sayıları görmek istersiniz : \"))\n",
        "numbers = list(range(2, limit + 1))\n",
        "prime_numbs = []\n",
        "\n",
        "for i in numbers:\n",
        "  count = 0\n",
        "  for j in numbers:\n",
        "    if i % j == 0:\n",
        "      count +=1\n",
        "  if count == 1:\n",
        "    prime_numbs.append(i)\n",
        "\n",
        "print(prime_numbs)"
      ],
      "execution_count": 40,
      "outputs": [
        {
          "output_type": "stream",
          "name": "stdout",
          "text": [
            "Kaça kadar asal sayıları görmek istersiniz : 100\n",
            "[2, 3, 5, 7, 11, 13, 17, 19, 23, 29, 31, 37, 41, 43, 47, 53, 59, 61, 67, 71, 73, 79, 83, 89, 97]\n"
          ]
        }
      ]
    }
  ]
}