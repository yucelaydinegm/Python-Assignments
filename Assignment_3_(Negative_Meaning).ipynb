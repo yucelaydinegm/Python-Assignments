{
  "nbformat": 4,
  "nbformat_minor": 0,
  "metadata": {
    "colab": {
      "name": "Assignment - 3 (Negative Meaning).ipynb",
      "provenance": [],
      "authorship_tag": "ABX9TyP+QPcwT/jGewcRaRlE5+v4",
      "include_colab_link": true
    },
    "kernelspec": {
      "name": "python3",
      "display_name": "Python 3"
    },
    "language_info": {
      "name": "python"
    }
  },
  "cells": [
    {
      "cell_type": "markdown",
      "metadata": {
        "id": "view-in-github",
        "colab_type": "text"
      },
      "source": [
        "<a href=\"https://colab.research.google.com/github/yucelaydinegm/Python-Assignments/blob/main/Assignment_3_(Negative_Meaning).ipynb\" target=\"_parent\"><img src=\"https://colab.research.google.com/assets/colab-badge.svg\" alt=\"Open In Colab\"/></a>"
      ]
    },
    {
      "cell_type": "code",
      "metadata": {
        "colab": {
          "base_uri": "https://localhost:8080/",
          "height": 37
        },
        "id": "u1V-ySRrrVo-",
        "outputId": "3cb638a7-b6d1-4eac-dd5b-19adc09fc0b2"
      },
      "source": [
        "def not_string(word):\n",
        "  if word[0:4] != \"not \":\n",
        "    return \"not \" + word\n",
        "  else:\n",
        "    return word\n",
        "\n",
        "not_string(\"notion\")"
      ],
      "execution_count": 3,
      "outputs": [
        {
          "output_type": "execute_result",
          "data": {
            "application/vnd.google.colaboratory.intrinsic+json": {
              "type": "string"
            },
            "text/plain": [
              "'not notion'"
            ]
          },
          "metadata": {},
          "execution_count": 3
        }
      ]
    }
  ]
}