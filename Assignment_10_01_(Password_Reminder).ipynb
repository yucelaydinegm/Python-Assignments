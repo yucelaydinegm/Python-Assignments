{
  "nbformat": 4,
  "nbformat_minor": 0,
  "metadata": {
    "colab": {
      "name": "Assignment - 10/01 (Password Reminder).ipynb",
      "provenance": [],
      "authorship_tag": "ABX9TyPbSNgtFod3mfI/NejNHxzN",
      "include_colab_link": true
    },
    "kernelspec": {
      "name": "python3",
      "display_name": "Python 3"
    },
    "language_info": {
      "name": "python"
    }
  },
  "cells": [
    {
      "cell_type": "markdown",
      "metadata": {
        "id": "view-in-github",
        "colab_type": "text"
      },
      "source": [
        "<a href=\"https://colab.research.google.com/github/yucelaydinegm/Python-Assignments/blob/main/Assignment_10_01_(Password_Reminder).ipynb\" target=\"_parent\"><img src=\"https://colab.research.google.com/assets/colab-badge.svg\" alt=\"Open In Colab\"/></a>"
      ]
    },
    {
      "cell_type": "code",
      "execution_count": 2,
      "metadata": {
        "id": "jA9J4OrGt6c-"
      },
      "outputs": [],
      "source": [
        "def pass_reminder():\n",
        "  user = input(\"Please write the first name for Password!: \")\n",
        "  default_name = \"Yücel\"\n",
        "  if user == default_name:\n",
        "    print(\"Hello, \" + user + \"! The password is : W@12\")\n",
        "  else:\n",
        "    print(\"Hello, \" + user + \"! See you later\")"
      ]
    },
    {
      "cell_type": "code",
      "source": [
        "pass_reminder()"
      ],
      "metadata": {
        "colab": {
          "base_uri": "https://localhost:8080/"
        },
        "id": "QmybFsRfvDcX",
        "outputId": "6c47838d-3fc6-478b-99ea-96f3b05b7598"
      },
      "execution_count": 3,
      "outputs": [
        {
          "output_type": "stream",
          "name": "stdout",
          "text": [
            "Please write the first name for Password!: Ali\n",
            "Hello, Ali! See you later\n"
          ]
        }
      ]
    },
    {
      "cell_type": "code",
      "source": [
        "pass_reminder()"
      ],
      "metadata": {
        "colab": {
          "base_uri": "https://localhost:8080/"
        },
        "id": "6ZvQjt9VvODz",
        "outputId": "9fca0764-6eac-4f61-ae14-7044ba4191ea"
      },
      "execution_count": 6,
      "outputs": [
        {
          "output_type": "stream",
          "name": "stdout",
          "text": [
            "Please write the first name for Password!: Yücel\n",
            "Hello, Yücel! The password is : W@12\n"
          ]
        }
      ]
    }
  ]
}