{
  "nbformat": 4,
  "nbformat_minor": 0,
  "metadata": {
    "colab": {
      "name": "Assignment - 4 (Missing Char).ipynb",
      "provenance": [],
      "authorship_tag": "ABX9TyPpyb3ASkSplBfZlwwQVWgf",
      "include_colab_link": true
    },
    "kernelspec": {
      "name": "python3",
      "display_name": "Python 3"
    },
    "language_info": {
      "name": "python"
    }
  },
  "cells": [
    {
      "cell_type": "markdown",
      "metadata": {
        "id": "view-in-github",
        "colab_type": "text"
      },
      "source": [
        "<a href=\"https://colab.research.google.com/github/yucelaydinegm/Python-Assignments/blob/main/Assignment_4_(Missing_Char).ipynb\" target=\"_parent\"><img src=\"https://colab.research.google.com/assets/colab-badge.svg\" alt=\"Open In Colab\"/></a>"
      ]
    },
    {
      "cell_type": "code",
      "metadata": {
        "colab": {
          "base_uri": "https://localhost:8080/",
          "height": 37
        },
        "id": "03mAnmSk7IGi",
        "outputId": "5b403cc9-eb79-4548-c11f-086141ce7358"
      },
      "source": [
        "def missing_char(word, n):\n",
        "  word_new = word.replace(word[n], \"\", 1)\n",
        "  return word_new\n",
        "\n",
        "missing_char(\"hello\", 2)"
      ],
      "execution_count": 15,
      "outputs": [
        {
          "output_type": "execute_result",
          "data": {
            "application/vnd.google.colaboratory.intrinsic+json": {
              "type": "string"
            },
            "text/plain": [
              "'helo'"
            ]
          },
          "metadata": {},
          "execution_count": 15
        }
      ]
    }
  ]
}