{
  "nbformat": 4,
  "nbformat_minor": 0,
  "metadata": {
    "colab": {
      "name": "Assignment - 10/04 (Is It a Prime Number?).ipynb",
      "provenance": [],
      "authorship_tag": "ABX9TyNHUI2f1cLbL/RaFAApl5ja",
      "include_colab_link": true
    },
    "kernelspec": {
      "name": "python3",
      "display_name": "Python 3"
    },
    "language_info": {
      "name": "python"
    }
  },
  "cells": [
    {
      "cell_type": "markdown",
      "metadata": {
        "id": "view-in-github",
        "colab_type": "text"
      },
      "source": [
        "<a href=\"https://colab.research.google.com/github/yucelaydinegm/Python-Assignments/blob/main/Assignment_10_04_(Is_It_a_Prime_Number%3F).ipynb\" target=\"_parent\"><img src=\"https://colab.research.google.com/assets/colab-badge.svg\" alt=\"Open In Colab\"/></a>"
      ]
    },
    {
      "cell_type": "code",
      "metadata": {
        "colab": {
          "base_uri": "https://localhost:8080/"
        },
        "id": "bC5tiuxW-RVV",
        "outputId": "9ef84e1e-bf90-4cb5-fad0-8f00ce69fc27"
      },
      "source": [
        "number = int(input(\"Write a number you want to see if it is a prime number : \"))\n",
        "num_list = list(range(2, number))\n",
        "count = 0\n",
        "for i in num_list:\n",
        "  if number % i == 0:\n",
        "    count += 1\n",
        "\n",
        "if count == 0:\n",
        "  print(number, \"is a prime number.\")\n",
        "else:\n",
        "  print(number, \"is not a prime number\")"
      ],
      "execution_count": 18,
      "outputs": [
        {
          "output_type": "stream",
          "name": "stdout",
          "text": [
            "Write a number you want to see if it is a prime number : 59\n",
            "59 is a prime number.\n"
          ]
        }
      ]
    }
  ]
}