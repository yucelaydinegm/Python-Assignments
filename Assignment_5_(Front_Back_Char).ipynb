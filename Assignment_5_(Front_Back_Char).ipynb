{
  "nbformat": 4,
  "nbformat_minor": 0,
  "metadata": {
    "colab": {
      "name": "Assignment - 5 (Front-Back Char).ipynb",
      "provenance": [],
      "authorship_tag": "ABX9TyORM+F8G/ym5Ff60vdhwrzN",
      "include_colab_link": true
    },
    "kernelspec": {
      "name": "python3",
      "display_name": "Python 3"
    },
    "language_info": {
      "name": "python"
    }
  },
  "cells": [
    {
      "cell_type": "markdown",
      "metadata": {
        "id": "view-in-github",
        "colab_type": "text"
      },
      "source": [
        "<a href=\"https://colab.research.google.com/github/yucelaydinegm/Python-Assignments/blob/main/Assignment_5_(Front_Back_Char).ipynb\" target=\"_parent\"><img src=\"https://colab.research.google.com/assets/colab-badge.svg\" alt=\"Open In Colab\"/></a>"
      ]
    },
    {
      "cell_type": "code",
      "execution_count": 18,
      "metadata": {
        "id": "9YytgZ0lS_0f"
      },
      "outputs": [],
      "source": [
        "def front_back(word):\n",
        "\n",
        "  front_back = list(word[-1]) + list(word[1:-1]) + list(word[0])\n",
        "\n",
        "  if len(word) == 1:\n",
        "    return word \n",
        "\n",
        "  else:\n",
        "    return \"\".join(front_back)"
      ]
    },
    {
      "cell_type": "code",
      "source": [
        "front_back(\"clarusway\")"
      ],
      "metadata": {
        "colab": {
          "base_uri": "https://localhost:8080/",
          "height": 37
        },
        "id": "KJTTWFJPVccZ",
        "outputId": "e384b0fc-6194-4a28-c16e-f6276346a6d3"
      },
      "execution_count": 14,
      "outputs": [
        {
          "output_type": "execute_result",
          "data": {
            "application/vnd.google.colaboratory.intrinsic+json": {
              "type": "string"
            },
            "text/plain": [
              "'ylaruswac'"
            ]
          },
          "metadata": {},
          "execution_count": 14
        }
      ]
    },
    {
      "cell_type": "code",
      "source": [
        "front_back(\"a\")"
      ],
      "metadata": {
        "colab": {
          "base_uri": "https://localhost:8080/",
          "height": 37
        },
        "id": "wQBnvYgRUwoR",
        "outputId": "265b5f83-a68c-4ecf-8ee7-6954fe00a038"
      },
      "execution_count": 15,
      "outputs": [
        {
          "output_type": "execute_result",
          "data": {
            "application/vnd.google.colaboratory.intrinsic+json": {
              "type": "string"
            },
            "text/plain": [
              "'a'"
            ]
          },
          "metadata": {},
          "execution_count": 15
        }
      ]
    },
    {
      "cell_type": "code",
      "source": [
        "front_back(\"ab\")"
      ],
      "metadata": {
        "colab": {
          "base_uri": "https://localhost:8080/",
          "height": 37
        },
        "id": "q7qLeN_DUzuy",
        "outputId": "3eddd84a-1dc7-4cdf-c970-0b45bc88c105"
      },
      "execution_count": 17,
      "outputs": [
        {
          "output_type": "execute_result",
          "data": {
            "application/vnd.google.colaboratory.intrinsic+json": {
              "type": "string"
            },
            "text/plain": [
              "'ba'"
            ]
          },
          "metadata": {},
          "execution_count": 17
        }
      ]
    }
  ]
}