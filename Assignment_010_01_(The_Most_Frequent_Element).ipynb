{
  "nbformat": 4,
  "nbformat_minor": 0,
  "metadata": {
    "colab": {
      "name": "Assignment - 010/01 (The Most Frequent Element).ipynb",
      "provenance": [],
      "authorship_tag": "ABX9TyMIvaCT3OmcayFZCH8hpCmu",
      "include_colab_link": true
    },
    "kernelspec": {
      "name": "python3",
      "display_name": "Python 3"
    },
    "language_info": {
      "name": "python"
    }
  },
  "cells": [
    {
      "cell_type": "markdown",
      "metadata": {
        "id": "view-in-github",
        "colab_type": "text"
      },
      "source": [
        "<a href=\"https://colab.research.google.com/github/yucelaydinegm/Python-Assignments/blob/main/Assignment_010_01_(The_Most_Frequent_Element).ipynb\" target=\"_parent\"><img src=\"https://colab.research.google.com/assets/colab-badge.svg\" alt=\"Open In Colab\"/></a>"
      ]
    },
    {
      "cell_type": "code",
      "execution_count": 1,
      "metadata": {
        "colab": {
          "base_uri": "https://localhost:8080/"
        },
        "id": "dJnK6uZkqkYj",
        "outputId": "fd3d0605-ffe1-4182-a900-29f4a903998c"
      },
      "outputs": [
        {
          "output_type": "stream",
          "name": "stdout",
          "text": [
            "the most frequent number is 3 and it was 4 times repeated\n"
          ]
        }
      ],
      "source": [
        "numbers = [1, 3, 7, 4, 3, 0, 3, 6, 3]\n",
        "num_list = []\n",
        "for i in numbers:\n",
        "  c = numbers.count(i)\n",
        "  num_list.append([i, c])\n",
        "\n",
        "most_frequent = 0\n",
        "frequency_time = 0\n",
        "for i in num_list:\n",
        "  if i[1] > frequency_time:\n",
        "    most_frequent = i[0]\n",
        "    frequency_time = i[1]\n",
        "  \n",
        "print(\"the most frequent number is\", most_frequent, \\\n",
        "      \"and it was\", frequency_time, \"times repeated\")"
      ]
    }
  ]
}